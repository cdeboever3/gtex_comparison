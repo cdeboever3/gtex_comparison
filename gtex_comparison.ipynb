{
 "metadata": {
  "name": ""
 },
 "nbformat": 3,
 "nbformat_minor": 0,
 "worksheets": [
  {
   "cells": [
    {
     "cell_type": "heading",
     "level": 1,
     "metadata": {},
     "source": [
      "Comparison of Flux Capacitor, eXpress, and Sailfish for GTEX expression estimation"
     ]
    },
    {
     "cell_type": "markdown",
     "metadata": {},
     "source": [
      "This is a quick comparison of the results of estimating transcript expression using Flux Capacitor, eXpress, and Sailfish. The main question I'm in interested is \n",
      "\n",
      "__How similar are the expression estimates from these tools?__\n",
      "\n",
      "This is in response to XXX's tweet:\n",
      "\n",
      "I'm primarily a methods consumer, but I understand XXX's sentiment; sometimes different tools and divergent approaches provide the same (or essentially the same) answer for a particular question. However, my experience with estimating transcript expression has been that the estimates can vary quite a bit between (and even within) tools.\n",
      "\n",
      "I chose three samples randomly to compare:\n",
      "\n",
      "* [SRR595926](http://www.ncbi.nlm.nih.gov/sra/?term=SRR595926): Total RNA sample from Brain - Frontal Cortex\n",
      "* [SRR597927](http://www.ncbi.nlm.nih.gov/sra/?term=SRR597927): Total RNA sample from Brain - Nucleus accumbens (basal ganglia)\n",
      "* [SRR597952](http://www.ncbi.nlm.nih.gov/sra/?term=SRR597952): Total RNA sample from Thyroid\n",
      "\n",
      "There is a more detailed methods section at the end of this notebook, but briefly, I removed optical duplicates and aligned the raw reads to the genome using STAR with a splice junction database drawn from several gene annotations. These alignments were used as the input for Flux Capacitor. For eXpress, I re-aligned all reads that were properly paired (both unique and multi-aligners) and contained completely within the exon boundaries of the Gencode v14 transcriptome to the Gencode v14 transcriptome using bowtie2 and piped the resulting alignment directly into eXpress. The raw reads were used as input for Sailfish and quantified against the Gencode v14 transcriptome using 25 bp k-mers."
     ]
    },
    {
     "cell_type": "heading",
     "level": 2,
     "metadata": {},
     "source": [
      "Import modules, read files"
     ]
    },
    {
     "cell_type": "code",
     "collapsed": false,
     "input": [
      "import re, os, sys\n",
      "import copy as cp\n",
      "import pandas as pd\n",
      "import matplotlib.pyplot as plt\n",
      "import matplotlib.ticker as tkr\n",
      "from scipy.linalg import svd\n",
      "from scipy.stats import variation\n",
      "from scipy.stats import spearmanr\n",
      "import matplotlib.gridspec as gridspec\n",
      "import scipy.cluster.hierarchy as sch\n",
      "import scipy.spatial.distance as distance"
     ],
     "language": "python",
     "metadata": {},
     "outputs": [],
     "prompt_number": 1
    },
    {
     "cell_type": "code",
     "collapsed": false,
     "input": [
      "# magic variables\n",
      "# figure size for matplotlib figures\n",
      "figsize(10,6)\n",
      "# font size for figures\n",
      "rcParams.update({'font.size': 16})\n",
      "# font\n",
      "rc('font',**{'family':'sans-serif','sans-serif':['Arial']})\n",
      "def func(x, pos):  # formatter function takes tick label and tick position\n",
      "   s = '{:0,d}'.format(int(x))\n",
      "   return s\n",
      "# comma format for large numbers in axes\n",
      "comma_format = tkr.FuncFormatter(func)\n",
      "# use: ax.yaxis.set_major_formatter(comma_format)"
     ],
     "language": "python",
     "metadata": {},
     "outputs": [],
     "prompt_number": 2
    },
    {
     "cell_type": "code",
     "collapsed": false,
     "input": [
      "# file with gene symbols for gencode gene ID's\n",
      "gene_infoDF = pd.read_table('gene_info.tsv',index_col=0,header=0)"
     ],
     "language": "python",
     "metadata": {},
     "outputs": [],
     "prompt_number": 3
    },
    {
     "cell_type": "code",
     "collapsed": false,
     "input": [
      "# file mapping Gencode transcript/isoform ID's to genes\n",
      "tgDF = pd.read_table('transcript_gene.tsv',names=['transcript','gene'])"
     ],
     "language": "python",
     "metadata": {},
     "outputs": [],
     "prompt_number": 4
    },
    {
     "cell_type": "code",
     "collapsed": false,
     "input": [
      "# read flux capacitor RPKM estimates\n",
      "fcDF = pd.read_table('fc.tsv',index_col=0,header=0)"
     ],
     "language": "python",
     "metadata": {},
     "outputs": [],
     "prompt_number": 5
    },
    {
     "cell_type": "code",
     "collapsed": false,
     "input": [
      "# read express FPKM estimates\n",
      "exDF = pd.read_table('ex.tsv',index_col=0,header=0)"
     ],
     "language": "python",
     "metadata": {},
     "outputs": [],
     "prompt_number": 6
    },
    {
     "cell_type": "code",
     "collapsed": false,
     "input": [
      "# read Sailfish RPKM estimates\n",
      "sfDF = pd.read_table('sf.tsv',index_col=0,header=0)"
     ],
     "language": "python",
     "metadata": {},
     "outputs": [],
     "prompt_number": 39
    },
    {
     "cell_type": "code",
     "collapsed": false,
     "input": [
      "# join estimates into one dataframe\n",
      "expDF = pd.concat([fcDF,exDF,sfDF],axis=1)"
     ],
     "language": "python",
     "metadata": {},
     "outputs": [],
     "prompt_number": 40
    },
    {
     "cell_type": "code",
     "collapsed": false,
     "input": [
      "# dict mapping short identifier to full name of estimation method\n",
      "methodD = {'fc':'Flux Capacitor','ex':'eXpress','sf':'Sailfish'}\n",
      "# dict with estimate units for each method\n",
      "unitsD = {'fc':'RPKM','ex':'FPKM','sf':'RPKM'}"
     ],
     "language": "python",
     "metadata": {},
     "outputs": [],
     "prompt_number": 41
    },
    {
     "cell_type": "code",
     "collapsed": false,
     "input": [
      "# make data with sample annotations\n",
      "\n",
      "annotDF = pd.DataFrame(index=expDF.columns)\n",
      "annotDF['sample'] = [ x.split('_')[0] for x in expDF.columns ]\n",
      "annotDF['method'] = [ methodD[x.split('_')[1]] for x in expDF.columns ]\n",
      "annotDF['units'] = [ unitsD[x.split('_')[1]] for x in expDF.columns ]"
     ],
     "language": "python",
     "metadata": {},
     "outputs": [],
     "prompt_number": 42
    },
    {
     "cell_type": "code",
     "collapsed": false,
     "input": [
      "annotDF"
     ],
     "language": "python",
     "metadata": {},
     "outputs": [
      {
       "html": [
        "<div style=\"max-height:1000px;max-width:1500px;overflow:auto;\">\n",
        "<table border=\"1\" class=\"dataframe\">\n",
        "  <thead>\n",
        "    <tr style=\"text-align: right;\">\n",
        "      <th></th>\n",
        "      <th>sample</th>\n",
        "      <th>method</th>\n",
        "      <th>units</th>\n",
        "    </tr>\n",
        "  </thead>\n",
        "  <tbody>\n",
        "    <tr>\n",
        "      <th>SRR595926_fc</th>\n",
        "      <td> SRR595926</td>\n",
        "      <td> Flux Capacitor</td>\n",
        "      <td> RPKM</td>\n",
        "    </tr>\n",
        "    <tr>\n",
        "      <th>SRR597927_fc</th>\n",
        "      <td> SRR597927</td>\n",
        "      <td> Flux Capacitor</td>\n",
        "      <td> RPKM</td>\n",
        "    </tr>\n",
        "    <tr>\n",
        "      <th>SRR597952_fc</th>\n",
        "      <td> SRR597952</td>\n",
        "      <td> Flux Capacitor</td>\n",
        "      <td> RPKM</td>\n",
        "    </tr>\n",
        "    <tr>\n",
        "      <th>SRR595926_ex</th>\n",
        "      <td> SRR595926</td>\n",
        "      <td>        eXpress</td>\n",
        "      <td> FPKM</td>\n",
        "    </tr>\n",
        "    <tr>\n",
        "      <th>SRR597927_ex</th>\n",
        "      <td> SRR597927</td>\n",
        "      <td>        eXpress</td>\n",
        "      <td> FPKM</td>\n",
        "    </tr>\n",
        "    <tr>\n",
        "      <th>SRR597952_ex</th>\n",
        "      <td> SRR597952</td>\n",
        "      <td>        eXpress</td>\n",
        "      <td> FPKM</td>\n",
        "    </tr>\n",
        "    <tr>\n",
        "      <th>SRR595926_sf</th>\n",
        "      <td> SRR595926</td>\n",
        "      <td>       Sailfish</td>\n",
        "      <td> RPKM</td>\n",
        "    </tr>\n",
        "    <tr>\n",
        "      <th>SRR597927_sf</th>\n",
        "      <td> SRR597927</td>\n",
        "      <td>       Sailfish</td>\n",
        "      <td> RPKM</td>\n",
        "    </tr>\n",
        "    <tr>\n",
        "      <th>SRR597952_sf</th>\n",
        "      <td> SRR597952</td>\n",
        "      <td>       Sailfish</td>\n",
        "      <td> RPKM</td>\n",
        "    </tr>\n",
        "  </tbody>\n",
        "</table>\n",
        "</div>"
       ],
       "metadata": {},
       "output_type": "pyout",
       "prompt_number": 43,
       "text": [
        "                 sample          method units\n",
        "SRR595926_fc  SRR595926  Flux Capacitor  RPKM\n",
        "SRR597927_fc  SRR597927  Flux Capacitor  RPKM\n",
        "SRR597952_fc  SRR597952  Flux Capacitor  RPKM\n",
        "SRR595926_ex  SRR595926         eXpress  FPKM\n",
        "SRR597927_ex  SRR597927         eXpress  FPKM\n",
        "SRR597952_ex  SRR597952         eXpress  FPKM\n",
        "SRR595926_sf  SRR595926        Sailfish  RPKM\n",
        "SRR597927_sf  SRR597927        Sailfish  RPKM\n",
        "SRR597952_sf  SRR597952        Sailfish  RPKM"
       ]
      }
     ],
     "prompt_number": 43
    },
    {
     "cell_type": "heading",
     "level": 2,
     "metadata": {},
     "source": [
      "Analysis"
     ]
    },
    {
     "cell_type": "heading",
     "level": 3,
     "metadata": {},
     "source": [
      "$log$ transform"
     ]
    },
    {
     "cell_type": "markdown",
     "metadata": {},
     "source": [
      "We'll compare the estimate on the $log$ scale. Let's take a look at the nonzero minimum for method/sample."
     ]
    },
    {
     "cell_type": "code",
     "collapsed": false,
     "input": [
      "print expDF.replace(0,expDF.max().max()).min()"
     ],
     "language": "python",
     "metadata": {},
     "outputs": [
      {
       "output_type": "stream",
       "stream": "stdout",
       "text": [
        "SRR595926_fc    0.000199\n",
        "SRR597927_fc    0.000134\n",
        "SRR597952_fc    0.000268\n",
        "SRR595926_ex    0.000001\n",
        "SRR597927_ex    0.000001\n",
        "SRR597952_ex    0.000001\n",
        "SRR595926_sf    0.010000\n",
        "SRR597927_sf    0.010004\n",
        "SRR597952_sf    0.010001\n",
        "dtype: float64\n"
       ]
      }
     ],
     "prompt_number": 44
    },
    {
     "cell_type": "markdown",
     "metadata": {},
     "source": [
      "Given that the different methods have different nonzero minima, I'll add the minimum observed for method/sample combination to that estimate so I can $log$ transform."
     ]
    },
    {
     "cell_type": "code",
     "collapsed": false,
     "input": [
      "log_expDF = log10(expDF + expDF.replace(0,expDF.max().max()).min())"
     ],
     "language": "python",
     "metadata": {},
     "outputs": [],
     "prompt_number": 45
    },
    {
     "cell_type": "heading",
     "level": 3,
     "metadata": {},
     "source": [
      "Distribution of transcript expression estimates"
     ]
    },
    {
     "cell_type": "markdown",
     "metadata": {},
     "source": [
      "Let's take a look at the distribution of the transcript estimate for each tool."
     ]
    },
    {
     "cell_type": "code",
     "collapsed": false,
     "input": [
      "axA = log_expDF.hist(figsize(10,3*annotDF.method.value_counts().shape[0]))\n",
      "for ax in axA.flatten():\n",
      "    ax.yaxis.set_major_formatter(comma_format)\n",
      "plt.tight_layout()"
     ],
     "language": "python",
     "metadata": {},
     "outputs": [
      {
       "metadata": {},
       "output_type": "display_data",
       "png": "[encoded data removed]",
       "text": [
        "<matplotlib.figure.Figure at 0x10c68f190>"
       ]
      }
     ],
     "prompt_number": 53
    },
    {
     "cell_type": "code",
     "collapsed": false,
     "input": [
      "fig = plt.figure(figsize=(15,6))\n",
      "ax = fig.add_subplot(121)\n",
      "n,b,p = ax.hist(np.log10(fcDF + fcDF[fcDF > 0].min()).values.flatten(),bins=15)\n",
      "ax.yaxis.set_major_formatter(comma_format)\n",
      "y = ax.set_ylabel('Number of RPKM measurements')\n",
      "x = ax.set_xlabel('$log_{10}$ RPKM')\n",
      "t = ax.set_title('Flux capacitor')\n",
      "ax = fig.add_subplot(122)\n",
      "n,b,p = ax.hist(np.log10(exDF + exDF[exDF > 0].min()).values.flatten(),bins=15)\n",
      "ax.yaxis.set_major_formatter(comma_format)\n",
      "y = ax.set_ylabel('Number of FPKM measurements')\n",
      "x = ax.set_xlabel('$log_{10}$ FPKM')\n",
      "t = ax.set_title('eXpress')\n",
      "fig.tight_layout()"
     ],
     "language": "python",
     "metadata": {},
     "outputs": []
    },
    {
     "cell_type": "code",
     "collapsed": false,
     "input": [
      "fig = plt.figure(figsize=(15,6))\n",
      "ax = fig.add_subplot(121)\n",
      "n,b,p = ax.hist(np.log10(fcDF + fcDF[fcDF > 0].min()).values.flatten(),bins=15)\n",
      "ax.yaxis.set_major_formatter(comma_format)\n",
      "y = ax.set_ylabel('Number of RPKM measurements')\n",
      "x = ax.set_xlabel('$log_{10}$ RPKM')\n",
      "t = ax.set_title('Flux capacitor')\n",
      "ax = fig.add_subplot(122)\n",
      "n,b,p = ax.hist(np.log10(exDF + exDF[exDF > 0].min()).values.flatten(),bins=15)\n",
      "ax.yaxis.set_major_formatter(comma_format)\n",
      "y = ax.set_ylabel('Number of FPKM measurements')\n",
      "x = ax.set_xlabel('$log_{10}$ FPKM')\n",
      "t = ax.set_title('eXpress')\n",
      "fig.tight_layout()"
     ],
     "language": "python",
     "metadata": {},
     "outputs": [
      {
       "metadata": {},
       "output_type": "display_data",
       "png": "[encoded data removed]",
       "text": [
        "<matplotlib.figure.Figure at 0x10b45ae90>"
       ]
      }
     ],
     "prompt_number": 11
    },
    {
     "cell_type": "markdown",
     "metadata": {},
     "source": [
      "The tall bins at the left of each plot are mostly isoforms with zero expression. This results from adding the minimum estimate for each sample to all estimates for that sample to allow for the $log$ transform. Interestingly, the shapes of the non-zero parts of these distributions are different."
     ]
    },
    {
     "cell_type": "heading",
     "level": 3,
     "metadata": {},
     "source": [
      "Zero values"
     ]
    },
    {
     "cell_type": "markdown",
     "metadata": {},
     "source": [
      "I often find is useful to see which transcripts are not expressed at all. How well do these methods agree for transcripts whose expression is estimated to be zero?"
     ]
    },
    {
     "cell_type": "code",
     "collapsed": false,
     "input": [
      "print 'Number of all-zero rows in Flux Capacitor estimates: {0:,}'.format(fc_v14DF[fc_v14DF.sum(axis=1) == 0].shape[0])\n",
      "print 'Number of all-zero rows in eXpress estimates: {0:,}'.format(ex_v14DF[ex_v14DF.sum(axis=1) == 0].shape[0])\n",
      "print 'Number of all-zero rows in common: {0:,}'.format(expDF[expDF.sum(axis=1) == 0].shape[0])"
     ],
     "language": "python",
     "metadata": {},
     "outputs": []
    },
    {
     "cell_type": "markdown",
     "metadata": {},
     "source": [
      "eXpress estimates nearly 8,000 more transcripts as not expressed, and the two tools agree on 41,599 transcripts that are not expressed."
     ]
    },
    {
     "cell_type": "heading",
     "level": 3,
     "metadata": {},
     "source": [
      "Spearman correlation"
     ]
    },
    {
     "cell_type": "markdown",
     "metadata": {},
     "source": [
      "Let's drop the rows with all-zero values from both methods and make a log-transformed dataframe where we add the minimum non-zero estimate for each sample to all estimates for that sample and take $log_{10}$."
     ]
    },
    {
     "cell_type": "code",
     "collapsed": false,
     "input": [
      "expDF = expDF[expDF.sum(axis=1) != 0]\n",
      "log_expDF = log10(expDF + expDF[expDF > 0].min())"
     ],
     "language": "python",
     "metadata": {},
     "outputs": []
    },
    {
     "cell_type": "markdown",
     "metadata": {},
     "source": [
      "Let's take a look at the distribution of expression values now."
     ]
    },
    {
     "cell_type": "code",
     "collapsed": false,
     "input": [
      "axA = log_expDF.hist()\n",
      "for ax in axA.flatten():\n",
      "    t = ax.get_title()\n",
      "    if 'fc' in t:\n",
      "        ax.set_xlabel('$log_{10}$ RPKM')\n",
      "    elif 'ex' in t:\n",
      "        ax.set_xlabel('$log_{10}$ FPKM')\n",
      "    ax.yaxis.set_major_formatter(comma_format)\n",
      "plt.tight_layout()"
     ],
     "language": "python",
     "metadata": {},
     "outputs": []
    },
    {
     "cell_type": "markdown",
     "metadata": {},
     "source": [
      "These aren't normal due to the preponderance of measurments at zero so Pearson correlation probably isn't applicable. We'll use Spearman."
     ]
    },
    {
     "cell_type": "code",
     "collapsed": false,
     "input": [
      "print 'Spearman correlation for SRR595926: {0:.2f}'.format(\n",
      "    spearmanr(log_expDF['SRR595926_fc_v14'],log_expDF['SRR595926_ex_v14'])[0])\n",
      "print 'Spearman correlation for SRR597927: {0:.2f}'.format(\n",
      "    spearmanr(log_expDF['SRR597927_fc_v14'],log_expDF['SRR597927_ex_v14'])[0])\n",
      "print 'Spearman correlation for SRR597952: {0:.2f}'.format(\n",
      "    spearmanr(log_expDF['SRR597952_fc_v14'],log_expDF['SRR597952_ex_v14'])[0])"
     ],
     "language": "python",
     "metadata": {},
     "outputs": []
    },
    {
     "cell_type": "markdown",
     "metadata": {},
     "source": [
      "Let's visualize the agreement between methods using a hexbin scatter plot (i.e. 2D histogram)."
     ]
    },
    {
     "cell_type": "code",
     "collapsed": false,
     "input": [
      "fig = plt.figure(figsize=(10,10))\n",
      "ax = fig.add_subplot(311)\n",
      "pc = ax.hexbin(log_expDF['SRR595926_fc_v14'],log_expDF['SRR595926_ex_v14'],bins='log',cmap=cm.Blues)\n",
      "t = ax.set_title('SRR595926')\n",
      "x = ax.set_xlabel('$log_{10}$ flux capacitor')\n",
      "y = ax.set_ylabel('$log_{10}$ express')\n",
      "cb = fig.colorbar(pc)\n",
      "cb.set_label('$log_{10}$ number of estimates')\n",
      "ax = fig.add_subplot(312)\n",
      "pc = ax.hexbin(log_expDF['SRR597927_fc_v14'],log_expDF['SRR597927_ex_v14'],bins='log',cmap=cm.Blues)\n",
      "t = ax.set_title('SRR597927')\n",
      "x = ax.set_xlabel('$log_{10}$ flux capacitor')\n",
      "y = ax.set_ylabel('$log_{10}$ express')\n",
      "cb = fig.colorbar(pc)\n",
      "cb.set_label('$log_{10}$ number of estimates')\n",
      "ax = fig.add_subplot(313)\n",
      "pc = ax.hexbin(log_expDF['SRR597952_fc_v14'],log_expDF['SRR597952_ex_v14'],bins='log',cmap=cm.Blues)\n",
      "t = ax.set_title('SRR597952')\n",
      "x = ax.set_xlabel('$log_{10}$ flux capacitor')\n",
      "y = ax.set_ylabel('$log_{10}$ express')\n",
      "cb = fig.colorbar(pc)\n",
      "cb.set_label('$log_{10}$ number of estimates')\n",
      "fig.tight_layout()"
     ],
     "language": "python",
     "metadata": {},
     "outputs": []
    },
    {
     "cell_type": "markdown",
     "metadata": {},
     "source": [
      "There is certainly a trend of agreement, but there are some interesting differences. There seems to be an overall skew to the trend where Flux Capacitor prefers smaller estimates for some of the more highly expressed transcripts and larger estimates for some of the more lowly expressed transcripts.\n",
      "\n",
      "There are many transcripts that are not expressed according to Flux Capacitor but that are assigned expression by eXpress (left side of the plot). There is also a cloud of estimates that extends below the area where the methods seem to agree. These estimates are generally much lower in Flux Capacitor than eXpress."
     ]
    },
    {
     "cell_type": "heading",
     "level": 3,
     "metadata": {},
     "source": [
      "A single gene example"
     ]
    },
    {
     "cell_type": "markdown",
     "metadata": {},
     "source": [
      "Let's take a look at a single gene. I'm choosing *FOXP1* because I have two brain samples. I want to see how well the transcript expression estimates agree for *FOXP1*'s transcripts.\n",
      "\n",
      "Disclaimer: This is $n=1$, and although *FOXP1* is the first gene I chose, I would have looked at several if needed to find an example like this. The type of result shown below is common in my experience with isoform expression estimates (and must not be that rare given the correlation coefficients above). Your mileage may vary."
     ]
    },
    {
     "cell_type": "code",
     "collapsed": false,
     "input": [
      "# gencode gene symbol for FOXP1\n",
      "foxp1 = gene_infoDF[gene_infoDF.gene_name == 'FOXP1'].index[0]"
     ],
     "language": "python",
     "metadata": {},
     "outputs": []
    },
    {
     "cell_type": "code",
     "collapsed": false,
     "input": [
      "# dataframe with expression estimates for FOXP1 transcripts\n",
      "foxp1_expDF = expDF.ix[tgDF[tgDF.gene == foxp1].transcript].dropna()\n",
      "foxp1_log_expDF = log_expDF.ix[tgDF[tgDF.gene == foxp1].transcript].dropna()"
     ],
     "language": "python",
     "metadata": {},
     "outputs": []
    },
    {
     "cell_type": "markdown",
     "metadata": {},
     "source": [
      "I'll plot a scatter of the transcript expression estimates for each sample."
     ]
    },
    {
     "cell_type": "code",
     "collapsed": false,
     "input": [
      "fig = plt.figure(figsize=(15,5))\n",
      "ax = fig.add_subplot(131)\n",
      "pc = ax.scatter(foxp1_log_expDF['SRR595926_fc_v14'],foxp1_log_expDF['SRR595926_ex_v14'],alpha=0.5,s=100)\n",
      "t = ax.set_title('SRR595926')\n",
      "x = ax.set_xlabel('$log_{10}$ flux capacitor')\n",
      "y = ax.set_ylabel('$log_{10}$ express')\n",
      "cb.set_label('$log_{10}$ number of estimates')\n",
      "ax = fig.add_subplot(132)\n",
      "pc = ax.scatter(foxp1_log_expDF['SRR597927_fc_v14'],foxp1_log_expDF['SRR597927_ex_v14'],alpha=0.5,s=100)\n",
      "t = ax.set_title('SRR597927')\n",
      "x = ax.set_xlabel('$log_{10}$ flux capacitor')\n",
      "y = ax.set_ylabel('$log_{10}$ express')\n",
      "cb.set_label('$log_{10}$ number of estimates')\n",
      "ax = fig.add_subplot(133)\n",
      "pc = ax.scatter(foxp1_log_expDF['SRR597952_fc_v14'],foxp1_log_expDF['SRR597952_ex_v14'],alpha=0.5,s=100)\n",
      "t = ax.set_title('SRR597952')\n",
      "x = ax.set_xlabel('$log_{10}$ flux capacitor')\n",
      "y = ax.set_ylabel('$log_{10}$ express')\n",
      "cb.set_label('$log_{10}$ number of estimates')\n",
      "fig.tight_layout()"
     ],
     "language": "python",
     "metadata": {},
     "outputs": []
    },
    {
     "cell_type": "markdown",
     "metadata": {},
     "source": [
      "There does seem to be some general agreement but certainly some outliers as well."
     ]
    },
    {
     "cell_type": "markdown",
     "metadata": {},
     "source": [
      "One thing we might be interested in is the relative proportion of each transcript. I'll plot a stacked bar where each stack represents the per percentage of the total expression at the locus for one transcript. There are 17 transcripts so we will end up using the same colors multiple times, but the overall amount of similarity should be clear."
     ]
    },
    {
     "cell_type": "code",
     "collapsed": false,
     "input": [
      "fig = plt.figure()\n",
      "ax = fig.add_subplot(131)\n",
      "ax = (foxp1_expDF / foxp1_expDF.sum()).ix[:,[0,3]].T.plot(kind='bar',stacked=True,legend=False,ax=ax)\n",
      "ylimT = ax.set_ylim(0,1)\n",
      "y = ax.set_ylabel('Fraction of overall expression')\n",
      "ax = fig.add_subplot(132)\n",
      "ax = (foxp1_expDF / foxp1_expDF.sum()).ix[:,[1,4]].T.plot(kind='bar',stacked=True,legend=False,ax=ax)\n",
      "ylimT = ax.set_ylim(0,1)\n",
      "ax = fig.add_subplot(133)\n",
      "ax = (foxp1_expDF / foxp1_expDF.sum()).ix[:,[2,5]].T.plot(kind='bar',stacked=True,legend=False,ax=ax)\n",
      "ylimT = ax.set_ylim(0,1)\n",
      "fig.tight_layout()"
     ],
     "language": "python",
     "metadata": {},
     "outputs": []
    },
    {
     "cell_type": "markdown",
     "metadata": {},
     "source": [
      "In almost every case, there is one isoform whose expression dominates. However, the estimates for that isoform differ between methods, and the estimates for the other isoforms differ even more. The two tools give a very different view of transcription at this locus."
     ]
    },
    {
     "cell_type": "heading",
     "level": 3,
     "metadata": {},
     "source": [
      "Gene expression"
     ]
    },
    {
     "cell_type": "markdown",
     "metadata": {},
     "source": [
      "How do the results agree for gene expression? I'll estimate gene expression by summing the expression estimates for each gene's transcripts."
     ]
    },
    {
     "cell_type": "code",
     "collapsed": false,
     "input": [
      "# make dataframe of gene expression\n",
      "tgDF.index = tgDF.transcript\n",
      "gene_expDF = expDF\n",
      "gene_expDF['gene'] = tgDF.ix[gene_expDF.index,'gene']\n",
      "gene_expDF = gene_expDF.groupby('gene').sum()"
     ],
     "language": "python",
     "metadata": {},
     "outputs": []
    },
    {
     "cell_type": "code",
     "collapsed": false,
     "input": [
      "# make dataframe of log10 expression estimates\n",
      "gene_log_expDF = log10(gene_expDF + gene_expDF[gene_expDF > 0].min())"
     ],
     "language": "python",
     "metadata": {},
     "outputs": []
    },
    {
     "cell_type": "heading",
     "level": 3,
     "metadata": {},
     "source": [
      "Distribution of gene expression estimates"
     ]
    },
    {
     "cell_type": "code",
     "collapsed": false,
     "input": [
      "axA = gene_log_expDF.hist()\n",
      "for ax in axA.flatten():\n",
      "    t = ax.get_title()\n",
      "    if 'fc' in t:\n",
      "        ax.set_xlabel('$log_{10}$ RPKM')\n",
      "    elif 'ex' in t:\n",
      "        ax.set_xlabel('$log_{10}$ FPKM')\n",
      "    ax.yaxis.set_major_formatter(comma_format)\n",
      "plt.tight_layout()"
     ],
     "language": "python",
     "metadata": {},
     "outputs": []
    },
    {
     "cell_type": "heading",
     "level": 3,
     "metadata": {},
     "source": [
      "Spearman correlation for gene expression"
     ]
    },
    {
     "cell_type": "code",
     "collapsed": false,
     "input": [
      "print 'Spearman correlation for SRR595926: {0:.2f}'.format(\n",
      "    spearmanr(gene_log_expDF['SRR595926_fc_v14'],gene_log_expDF['SRR595926_ex_v14'])[0])\n",
      "print 'Spearman correlation for SRR597927: {0:.2f}'.format(\n",
      "    spearmanr(gene_log_expDF['SRR597927_fc_v14'],gene_log_expDF['SRR597927_ex_v14'])[0])\n",
      "print 'Spearman correlation for SRR597952: {0:.2f}'.format(\n",
      "    spearmanr(gene_log_expDF['SRR597952_fc_v14'],gene_log_expDF['SRR597952_ex_v14'])[0])"
     ],
     "language": "python",
     "metadata": {},
     "outputs": []
    },
    {
     "cell_type": "markdown",
     "metadata": {},
     "source": [
      "As we might expect, the overall amount of transcript at the loci are more correlated than the transcript expression estimates."
     ]
    },
    {
     "cell_type": "code",
     "collapsed": false,
     "input": [
      "fig = plt.figure(figsize=(10,10))\n",
      "ax = fig.add_subplot(311)\n",
      "pc = ax.hexbin(gene_log_expDF['SRR595926_fc_v14'],gene_log_expDF['SRR595926_ex_v14'],bins='log',cmap=cm.Blues)\n",
      "t = ax.set_title('SRR595926')\n",
      "x = ax.set_xlabel('$log_{10}$ flux capacitor')\n",
      "y = ax.set_ylabel('$log_{10}$ express')\n",
      "cb = fig.colorbar(pc)\n",
      "cb.set_label('$log_{10}$ number of estimates')\n",
      "ax = fig.add_subplot(312)\n",
      "pc = ax.hexbin(gene_log_expDF['SRR597927_fc_v14'],gene_log_expDF['SRR597927_ex_v14'],bins='log',cmap=cm.Blues)\n",
      "t = ax.set_title('SRR597927')\n",
      "x = ax.set_xlabel('$log_{10}$ flux capacitor')\n",
      "y = ax.set_ylabel('$log_{10}$ express')\n",
      "cb = fig.colorbar(pc)\n",
      "cb.set_label('$log_{10}$ number of estimates')\n",
      "ax = fig.add_subplot(313)\n",
      "pc = ax.hexbin(gene_log_expDF['SRR597952_fc_v14'],gene_log_expDF['SRR597952_ex_v14'],bins='log',cmap=cm.Blues)\n",
      "t = ax.set_title('SRR597952')\n",
      "x = ax.set_xlabel('$log_{10}$ flux capacitor')\n",
      "y = ax.set_ylabel('$log_{10}$ express')\n",
      "cb = fig.colorbar(pc)\n",
      "cb.set_label('$log_{10}$ number of estimates')\n",
      "fig.tight_layout()"
     ],
     "language": "python",
     "metadata": {},
     "outputs": []
    },
    {
     "cell_type": "heading",
     "level": 2,
     "metadata": {},
     "source": [
      "Methods"
     ]
    },
    {
     "cell_type": "markdown",
     "metadata": {},
     "source": [
      "I have never used Flux Capacitor before yesterday, so I didn't tune the parameters in any particular way. I have been using eXpress for several months and have a pipeline which is what I used here."
     ]
    },
    {
     "cell_type": "heading",
     "level": 3,
     "metadata": {},
     "source": [
      "Genomic Alignment"
     ]
    },
    {
     "cell_type": "markdown",
     "metadata": {},
     "source": [
      "Optical read pair duplicates were removed using a bash script. Optical read pair duplicates are defined as read pairs where all bases calls were exactly the same.\n",
      "\n",
      "After duplicate removal, read pairs were aligned to the hg19 genome using STAR. We provided STAR with a splice junction database consisting of splice junctions from several gene annotations including Gencode and Aceview. The alignments were performed with the following parameters:\n",
      "\n",
      "    STAR stuff"
     ]
    },
    {
     "cell_type": "heading",
     "level": 3,
     "metadata": {},
     "source": [
      "Flux Capacitor"
     ]
    },
    {
     "cell_type": "markdown",
     "metadata": {},
     "source": [
      "Flux version blah.\n",
      "\n",
      "    FC commands"
     ]
    },
    {
     "cell_type": "heading",
     "level": 3,
     "metadata": {},
     "source": [
      "eXpress"
     ]
    },
    {
     "cell_type": "code",
     "collapsed": false,
     "input": [],
     "language": "python",
     "metadata": {},
     "outputs": []
    }
   ],
   "metadata": {}
  }
 ]
}